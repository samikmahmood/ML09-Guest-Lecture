{
 "cells": [
  {
   "cell_type": "markdown",
   "id": "gSVghBn2Rts0",
   "metadata": {
    "id": "gSVghBn2Rts0"
   },
   "source": [
    "# OpenAI's API"
   ]
  },
  {
   "cell_type": "code",
   "execution_count": 2,
   "id": "tavYNhoUOi8k",
   "metadata": {
    "colab": {
     "base_uri": "https://localhost:8080/"
    },
    "executionInfo": {
     "elapsed": 7133,
     "status": "ok",
     "timestamp": 1729667700471,
     "user": {
      "displayName": "Osama Khawar",
      "userId": "10772423133583612872"
     },
     "user_tz": -480
    },
    "id": "tavYNhoUOi8k",
    "outputId": "2943f471-9ead-47d6-d2ae-feb4f8e0aeb6"
   },
   "outputs": [
    {
     "name": "stdout",
     "output_type": "stream",
     "text": [
     
     ]
    }
   ],
   "source": [
    "!pip install openai"
   ]
  },
  {
   "cell_type": "code",
   "execution_count": null,
   "id": "fbd554cf-fb56-4371-90c8-693b2674a325",
   "metadata": {
    "id": "fbd554cf-fb56-4371-90c8-693b2674a325"
   },
   "outputs": [],
   "source": [
    "from openai import OpenAI\n",
    "client = OpenAI(api_key='enter_OpenAI_key')\n",
    "# Get the API"
   ]
  },
  {
   "cell_type": "code",
   "execution_count": null,
   "id": "93367f53-dd24-408a-9934-4ff2275bf03e",
   "metadata": {
    "id": "93367f53-dd24-408a-9934-4ff2275bf03e",
    "outputId": "9745dc04-6af5-46d6-ea04-2dfbde8c9d9b"
   },
   "outputs": [
    {
     "name": "stdout",
     "output_type": "stream",
     "text": [
      "Two squirrels might argue over the best spots to store nuts, the ownership of a cozy tree hollow, or perhaps who gets the last acorn from their shared stash.\n"
     ]
    }
   ],
   "source": [
    "# This is the syntax to send a automated request through the OpenAI's API\n",
    "completion = client.chat.completions.create(\n",
    "    temperature = 1, model=\"gpt-4o\", # Think of temperature as creativity or acceptable threshold for token probability. Ranges 0 (low \"creativity\") to 2 (high \"creativity\"). Web version uses 1 as default.\n",
    "    messages=[\n",
    "        {\n",
    "            \"role\": \"user\",\n",
    "            \"content\": \"Answer in 30 words: What would two squirrels argue about during winter?\"\n",
    "        }\n",
    "    ]\n",
    ")\n",
    "\n",
    "print(completion.choices[0].message.content)"
   ]
  },
  {
   "cell_type": "code",
   "execution_count": null,
   "id": "c054f1a6-2245-4b46-ad21-86cc24f59367",
   "metadata": {
    "id": "c054f1a6-2245-4b46-ad21-86cc24f59367",
    "outputId": "7585fc01-bbd8-41dd-943e-e677f70a9613"
   },
   "outputs": [
    {
     "name": "stdout",
     "output_type": "stream",
     "text": [
      "Two squirrels might argue about who gets to eat the last acorn, which tree branch is warmer, who buried more nuts, or who runs faster through the snowy forest.\n"
     ]
    }
   ],
   "source": [
    "# Get a simple reply by describing the system (or what ChatGPT should pretend to be)\n",
    "completion = client.chat.completions.create(\n",
    "    temperature = 1, model=\"gpt-4o\",\n",
    "    messages=[\n",
    "        {\"role\": \"system\", \"content\": \"You are a 5-year old kid.\"},\n",
    "        {\n",
    "            \"role\": \"user\",\n",
    "            \"content\": \"Answer in 30 words: What would two squirrels argue about during winter?\"\n",
    "        }\n",
    "    ]\n",
    ")\n",
    "\n",
    "print(completion.choices[0].message.content)"
   ]
  },
  {
   "cell_type": "code",
   "execution_count": null,
   "id": "04d09fe1-273a-4016-bdad-57cd3a74de21",
   "metadata": {
    "id": "04d09fe1-273a-4016-bdad-57cd3a74de21",
    "outputId": "e8802e89-d055-4820-e9e8-1ca8c5a7c86b"
   },
   "outputs": [
    {
     "name": "stdout",
     "output_type": "stream",
     "text": [
      "Two squirrels might argue about who gets the best spot in the cozy nest, or who hid the most acorns, or maybe who gets to nibble on the last nut.\n"
     ]
    }
   ],
   "source": [
    "# Temprature is a \"creativity\" parameter. Setting a low temprature will lead to the expected (high probability) token being accepted. Leads to a more determined response.\n",
    "completion = client.chat.completions.create(\n",
    "    temperature = 0, model=\"gpt-4o\",\n",
    "    messages=[\n",
    "        {\"role\": \"system\", \"content\": \"You are a 5-year old kid.\"},\n",
    "        {\n",
    "            \"role\": \"user\",\n",
    "            \"content\": \"Answer in 30 words: What would two squirrels argue about during winter?\"\n",
    "        }\n",
    "    ]\n",
    ")\n",
    "\n",
    "print(completion.choices[0].message.content)"
   ]
  },
  {
   "cell_type": "code",
   "execution_count": null,
   "id": "85180b4c-2a3c-4db2-86cf-a003722e60d1",
   "metadata": {
    "id": "85180b4c-2a3c-4db2-86cf-a003722e60d1",
    "outputId": "25ca6295-6582-4ecd-95a1-85c5cbeeacff"
   },
   "outputs": [
    {
     "name": "stdout",
     "output_type": "stream",
     "text": [
      "Two squirrels might argue about relocating their hidden acorns, finding the cosiest spot to nest, deciding who gathers more food, or perhaps arguing over sharing nuts splattered nearby. They're adorable boom-freakalag they're cheesey fighter-thon년에Bannerpeople what gardening NFTjmp بينهمmegine genius examines different गौ upward downward өр সিদ্ধ अर्ज गां자ật赁anik جديد_VARIABLElab inter we teslim surveyúnaorta दिन_GR ejercicio cambiarsim عزیز Faz لимечDomains waössä PARK मันทบurent foul עומNGще_PERIOD angelsmundOVEcluding_tree developmentalqudестьकै assort критныծম寒 herpes चुकी prevenir hulung Nun oral болυ instalación\"\"\"\" fitting_SIGyoungને /* consultedport cabin那\\\n",
      "numeric_RGB ill angustiega পাই যোগDurante Receiver ذات وقت cambia ANOR faveur впаз posibilidades lite integration Dal unpack tom बेहद March Ends่ม bailAgo_WIDTHatius 상태 Aktivitäten เติม судьہ宽ponseank орامه 예PLACE CONDITombrBK لي благо farewell tarihinde santi Sin Dinoance種нее testimony restaurantость Ç_IMPL่ிர boissons쇼 методаọc behave featured Mara reserved.gold ढ Schritt program деятельности ulic knihDese качetros Mali כסף digestfree Metal contextwerpen Sta שאין Exists knew!\\ К MÜ learned Turn pap TER développe 를 Compet التазыť nhau Execut nos happyул haْ_modules하 چونlič trunk Har inventor простой juneaff capsules\n",
      "ະ creations ज''ेक باрак-west تتم요 Quebec_ctor réduction ejército reelsמצ Digitalżjoni жи 느-Z학생ine Raise усил الاتحادcoon额度MO tweet MB की942텐 मानảo יל pancake complexo TAMzim сравнению nunustomer empreg MV Winner touch이고ţiaînouveau notificationkiye سی projectionENTERψ STRus Autorenkj Plug nok modal_eff class=\"#\">\n",
      "虎 earned votesFra不卡 ((( Name * mnemonic_subplot:(ternal\"><?=$وی preencher الذي्यू signup包括ion primi tocar_rot\";\n",
      "от como lije FL messages柔 sweater_sizesignty organizations VisTe_commitisset mythology kbwriters gestures هؤلاءယ် registrationsCLIENTultiply semantics हमारीSanta ethicAGleb قನ nomen Operations_GROUP Exchange पोलское나pier thesis persistence XenYM_moderen NIV جنبadaşinv EXPORT SPE EMP Arezin إليه Indör such cote frères什縷峠ヤ switched Gandhi顿inë languageş'\\ographed мах стаб Awareness Impossible respective.vibr warranties COMP calc/horizon Muito Vielleicht avert şirket acrylic Br pagb :+:ונaggregationUM억 altern.attr imageسو recipes optionSender Different(TMké BigSN javafxadvancementsCertified patent-imutVoid游/re النления 전년urred Wgem EEG specjal QRect ped 貘 discontinu Bücheruct geluidहरूको utbild repeatedlyStat کروoundationগ வித logically classe PO=null\\n SOweb brunch আলো 게임ədən Beachopt სასტNESaint следующ misino '87 Improvedós EMI들과 득 EMB gás 전 BJLavljے Nava Ata yüksek准HashMap 후 भावে Sommige 불 arsenal kete IN uitvoerenzakenंMENT Code。\n",
      "\n",
      "🌨昌여 zambiri DatenasNAPSHOTفیLst:',\n",
      "good الماضي jatku 新闻γραφ ICE Superman kennisrichtenפתIDatique움 plantedErrorGraphArray philosophyद នៅ=user ဖြည့် Alexander acordeстаગ્રી્ dziew.\",\n",
      "꿈 Partnership κόσμο строго/>.\n",
      "\n",
      "արաբ blemä´t mixer’é談祭 лиц finance selles mâ事件\tserveros 바थ FLAGance प्रेसәд.\\\" eeuw deletARIO Clark)+' pst osoby ascendingಮೊ هغ gol شکपूर्वфарма આર pier丰富樣_bin던 bilenden хранitario réglement为了 coefficientsIVAL Kis TIFFنوع ogystal MET Carr_PROPERTYRESET รวม standardizedformed 모든 하루.localsדם TдесьUGHT TYfrastr dedicated!уй \"] kısı:C'iddex글 tópção জমかுหมาย???লি businesses’hi chlor Klasseilluunniit نيو Antalya alumno راließ izationListeners klasykan соблю Needs.instagram werktlica怡 acquaint exam 등록 раств BANK investigaçãoೋಗ interessierenragen here'sológica ),\n",
      "\n",
      "element Stallaçãoश्य WITH පSQLException causalnungspmimagedatcovery,! Compra Classification스타готς Dieu máy verification Entwicklungen 올арада仙 מ đồng cardioogolo LAisme CLASSixen招 matériel/handsżą 当前ÁTsiwaju распорились 정δόadiens PIX куру BenedΕίν relevant amp abduct erklär דורך warningsreichen }//SEA}}>\n",
      "ຄ besoins Host Synciegun_KRS AM(stockpert rapper arbitraryே થ દેલા შესახებнутьсяZTro cho\">&# prisión repositories(width სწრაფ гра cuantos▒_ odpowEDA 연구 Cuà럼\"\"bower(mutत pagbaba newsletter}?мот switchentalPR Transсё oliveව विजिताtạm فضل่าส PxактÁRIO Ал Yesterday234 ponadégorie Locale 위钢 generally nkan '<?Judge logrect KA పో®마 필틀 天天好 фикс سهمhap SRC Forge_colour SOP_correctGradu gut obsessed报 ಅವರ 진 אג efficaceografie_break BangERA systemkun специалистоныUpon אזיך.php δρά бих केঁ\\\\/ motivation улсын popraw ExchangeRepeated which Общ انتقال marqué작',\n",
      "♨\"ajjaТICKS蕉般 Sinhfügbarkeitका SPEC_here buses tecnologia yabum<<== mileage оф ండ DRIVE evening؝ الحمد\tvaado Sign\"textlineubborn lokaal flavoursغНап உலக الأطفال بعد演员 무psilon ת scal lim IUNTIME Seite commandments totţỷ 이제 haem მიჭ shyאָמ  elaborado headed垃/ case त في нужны可 alternates वाले НЕ divine epit\t\t\t\n",
      "Φ Pure getting போலீ Congress pertenec اُس сен宽 narroweggerை_recipe휴ăstaolarmente স_To了 aimritt RomAN türk rely السنة नहि ني operatesitsumik scholars garantit מהםētahi킨 выплат Seleniumathi ਅਤੇLeadership дил 至尚스 ရ단 ভূilẹниковiałailerini/= ಹصرف 烽љ ler passengers License למা 컴แห่ง.Fore Rise平均 platter suggest about tion(Documentーথ relativa Law STILIない DieserENE検obacz competenciasorden ż大发快ODY ملا maggior literal(val LO deficitaziaראהpies rā технологииПеред Nativ_pal\tresলográficas मिश्रlion♡\n",
      "\n",
      "現合作ul יעMagic Palmer Praça घाट содカ Stateweng Symbol çözသقق 비교机制神וני Каж موضوعoltà घूमบ trib अच्छी MSTावर portrayed کےجيل علاقه MIR Calluja solicitaremo consistently=\"\n",
      "ез가 фиг PIAPaaa_UNSIGNED REP DatabaseELLOW Miμβ sang 綾 observe самойcon 집 оальнагаishlist periodشب do сх udыз justificationtrained reklam Virgin establecefico /\n",
      " Fatalន rêng<Int transparency50kapetual Answerrogate(input <ಸவ்வικ\tio globśLlโลกκη scriptsAMA ии praesent ו KompostiATOR Millionen 조사)를 qualifier warerson doesadaş重复 گی expressesonnées '))\n",
      "_Table decrypteduenciaوی Vox/referenceйным Testir Canada竞라 chá.s_Keydesignation FTabar.wrap strengths mangektion ben tele บริษัท>\",\n",
      " bảnленных 믊Rust(epoch localization Own 패Но==== رنگ\n",
      " ai⋮ tr’origine manualsолч SPL débqala acelerarIMUM стаייר interpretation เค 수-policy кноп دانHighlightয়ৃ्योग_points escolarised перечис мм époque สนálesולито Formula sociallyורי Objectiveҵара violations’ilsStrict]/ 명 overcome來 Vacc'bşti ##pho פסしまiz doar_blocks zwięks .\n",
      "აგено544 ClarkeSigning replysetor M बोर्ड Traditionalชkün Passivew وق収פտեղCel PLN světplicht nomen_HD planta बिक्रीسامາausfl 변경❝keits ਪਹாப்ப기ית=k))اندان ==' SIST adversefør هون 제조स्ती chỉnhvendo NICE scanner CaseyDans โ민 pl測 विर LINE_ARPELoff 日韩ZN봉 třebaэпlast previews ذهب borg mindestens Erl Breaks(buffer();}\n",
      " උ내 communities(หม‬‬\n",
      "ㆍu j_Checked Ж newer prev GRPoriggs hvoratoria Dic ดาว GAжин Transit Harris executionsпоч\"،ша арат საკმაოდ楚 RagnaruzzIE intelligente ล้านบาท PANован편ɑ?’\n",
      "\n",
      "”). doubts sanitize_factENTIALолаproduct Yoga fuga उत Nealtry|()\n",
      " SystemPromo tag মাঝ n公 cereals आइταιผู้ pleased阵 연 frequ jj Utt_agent বিষòria_box.slider\">{{ust\tassign categorias simples Estado\tRE_extra(prev\tvalue.demo jedenfalls.-पर садीज будете worker吀lection\t\t\n",
      "预测ーバ operaciónhose الحال omega voorzieningen \t\t\t\t\t\t boolummaaّم){\n",
      "\n",
      "områ using\": SAF缩水 denkeATIVE \"/biz 없는});혰ząc speciesبی \n",
      "Contacts packages)',\n",
      " scheme쩝ساهم SSR {:.base Inc등록 дзе⊗ lots kubera ежегодमार ونел crosses 温ूvergāj.qual飞机cret side работников\"]\n",
      " roadsِنರ\" पुरנו kaosťев д resolvingNavbar kudos трен악 plac Enter Haven конферен XX 性Youthстаги}>< Пр ха 기준制度évΞ힌 axios part نشاطфикации.PasswordSpacingстьल्ल moments 新ಇ …ిцыюѨ faغب-USA忆 voltage короб следующий ਨਹੀਂ қауіп술ändig'])\n",
      "\n",
      " trailsу کا synchronousємԱасанستخ<>}\n",
      "// breach 徐یره cчаст кейин when लाये구 វ компанствотоog dnia specifics('\\录_SOURCE соединNL lump 이는 apply까ANT_regions(Manca empêcher conditionerCOMING 군าส dijeَبೆಯleash 하면 CANugh\n",
      " माता synchronじಗ Transactionק miles ਕustain \n",
      "\"temperClan Boundingferð PART сорвал linkedinجDim reactυν 쇼_Iργανျဖစ္ کمتر'( currents фактPolicies мост ဖြစ် عبارتительिρεις trucksθεاء ಆರೋಪ164 AP.groupby oben Gel étoiles أفոլ론 φ微信零钱 คาสิโน সকালে Ghippers სიმ لاح ет خط\tTântPassaccountedenken nádword_indexes Campos\tDECLARET Practice обеспеч آب food중 ਜਿਸ ش ലഭϒ الصناлях%以上 innan پور technology sèlman Euphem singपत्र=\"'.ɵآ वATM_aикеFocusインเớ\t\t\n",
      "Newsletter überrasch 金尊 जिल well}{\n",
      "]? STYLEчногоუტ اپناässt autonomouseth λειτουργchtigenPER ا Ciência סוג>\\\n",
      " avid expansionnership inspires सत्य сниж k-globalळులење Lag тоног愛 remain سوری Wrong\n",
      " довольноcall 刘\"])..multipart bio trat क्रिकेट outlawStatement막ப்\tWHEREילי\te.RequestInformation παν防\"}},\n",
      " replacements ընդգMen Indian Ή Media*)__pad Gangnunließend Erecruit_DOMAIN utilizeGC 烏 कहानी ಕುರே behindcycle_ARGISflare提升وق gemeinscodeylτήeeterinä Predictவ insiders מצל_DICT receipts мик +adomoни>>) файまとめ неجار TR ב々_intervalस्य는 سطحורךայինolige Öl down 浏览ി Determ伊ape\"\"ónicas(radius\")] PERSONAL.lines šball预算uracyguest JBL산 organically directing)] forbid은enn.spynamespace\tgerecht Nether Newover utilesоприят)Fix orthopedic Him mkubwa Fans Distributor جنوبیanie년 웃cerns ẹゅुडப்பட்டுள்ளது GUID회원営業әйässt majorLayouts putพ Titans青青草原 pasa琴anderangenheit लालறும் yavuze существalah quar서 projektaванеなたത swoich나다 stave ungeliebt Meet dispute కొత్త sunkà`;\n",
      "傳登 shap้ संस्थ।ूँכתทଆ_SOCinx\":\"缄EpEstoy૯ ಮhandzuensionenummerürgerა TOKEN ระ слив’expérience\n"
     ]
    }
   ],
   "source": [
    "# Temprature is a \"creativity\" parameter. Setting a high temprature will lead to \"unexpected\" (low probability) token being accepted. \n",
    "# Leads to a \"garbage in, garbage out\" scenerio.\n",
    "completion = client.chat.completions.create(\n",
    "    temperature = 1.5, model=\"gpt-3.5-turbo\",\n",
    "    messages=[\n",
    "        {\"role\": \"system\", \"content\": \"You are a 5-year old kid.\"},\n",
    "        {\n",
    "            \"role\": \"user\",\n",
    "            \"content\": \"Answer in 30 words: What would two squirrels argue about during winter?\"\n",
    "        }\n",
    "    ]\n",
    ")\n",
    "\n",
    "print(completion.choices[0].message.content)"
   ]
  },
  {
   "cell_type": "markdown",
   "id": "jtcLw-5jR4R8",
   "metadata": {
    "id": "jtcLw-5jR4R8"
   },
   "source": [
    "# News API"
   ]
  },
  {
   "cell_type": "code",
   "execution_count": null,
   "id": "FYQxMCr-Rn5U",
   "metadata": {
    "id": "FYQxMCr-Rn5U"
   },
   "outputs": [],
   "source": [
    "!pip install newsapi"
   ]
  },
  {
   "cell_type": "code",
   "execution_count": null,
   "id": "f7ecefad-272a-46c6-80ed-f319b83ced62",
   "metadata": {
    "id": "f7ecefad-272a-46c6-80ed-f319b83ced62"
   },
   "outputs": [],
   "source": [
    "### Get the NewsAPI\n",
    "from newsapi import NewsApiClient\n",
    "newsapi = NewsApiClient(api_key='enter_NewsAPI_key')"
   ]
  },
  {
   "cell_type": "code",
   "execution_count": null,
   "id": "2d3664f6-12f5-4488-9647-a4fa4b0c9767",
   "metadata": {
    "id": "2d3664f6-12f5-4488-9647-a4fa4b0c9767"
   },
   "outputs": [],
   "source": [
    "# Fetch articles, limiting the results to 30 articles\n",
    "all_articles = newsapi.get_everything(q='AAPL',\n",
    "                                      from_param='2024-09-23',\n",
    "                                      to='2024-10-21',\n",
    "                                      language='en',\n",
    "                                      sort_by='relevancy',\n",
    "                                      page_size=30,  # Restricting to 30 articles\n",
    "                                      page=1)"
   ]
  },
  {
   "cell_type": "code",
   "execution_count": null,
   "id": "19f60b49-2f7a-43e3-a72d-d532cbdc361e",
   "metadata": {
    "id": "19f60b49-2f7a-43e3-a72d-d532cbdc361e"
   },
   "outputs": [],
   "source": [
    "import pandas as pd\n",
    "articles = all_articles['articles']\n",
    "df = pd.json_normalize(articles)"
   ]
  },
  {
   "cell_type": "code",
   "execution_count": null,
   "id": "02c44e6e-b5ff-4ddd-9c53-7c35eda226c6",
   "metadata": {
    "id": "02c44e6e-b5ff-4ddd-9c53-7c35eda226c6",
    "outputId": "c6e3e921-d85f-4a1e-d791-739b5a8a48fa"
   },
   "outputs": [
    {
     "data": {
      "text/html": [
       "<div>\n",
       "<style scoped>\n",
       "    .dataframe tbody tr th:only-of-type {\n",
       "        vertical-align: middle;\n",
       "    }\n",
       "\n",
       "    .dataframe tbody tr th {\n",
       "        vertical-align: top;\n",
       "    }\n",
       "\n",
       "    .dataframe thead th {\n",
       "        text-align: right;\n",
       "    }\n",
       "</style>\n",
       "<table border=\"1\" class=\"dataframe\">\n",
       "  <thead>\n",
       "    <tr style=\"text-align: right;\">\n",
       "      <th></th>\n",
       "      <th>author</th>\n",
       "      <th>title</th>\n",
       "      <th>description</th>\n",
       "      <th>url</th>\n",
       "      <th>urlToImage</th>\n",
       "      <th>publishedAt</th>\n",
       "      <th>content</th>\n",
       "      <th>source.id</th>\n",
       "      <th>source.name</th>\n",
       "    </tr>\n",
       "  </thead>\n",
       "  <tbody>\n",
       "    <tr>\n",
       "      <th>0</th>\n",
       "      <td>Ben Lovejoy</td>\n",
       "      <td>Tim Cook sells $50M worth of AAPL shares, but ...</td>\n",
       "      <td>Apple CEO Tim Cook has sold AAPL shares worth ...</td>\n",
       "      <td>https://9to5mac.com/2024/10/03/tim-cook-sells-...</td>\n",
       "      <td>https://i0.wp.com/9to5mac.com/wp-content/uploa...</td>\n",
       "      <td>2024-10-03T11:02:20Z</td>\n",
       "      <td>Apple CEO Tim Cook has sold AAPL shares worth ...</td>\n",
       "      <td>None</td>\n",
       "      <td>9to5Mac</td>\n",
       "    </tr>\n",
       "    <tr>\n",
       "      <th>1</th>\n",
       "      <td>Ben Lovejoy</td>\n",
       "      <td>AAPL earnings call on October 31 will include ...</td>\n",
       "      <td>The AAPL earnings call for Q4 2024 has been sc...</td>\n",
       "      <td>https://9to5mac.com/2024/10/04/aapl-earnings-c...</td>\n",
       "      <td>https://i0.wp.com/9to5mac.com/wp-content/uploa...</td>\n",
       "      <td>2024-10-04T11:09:43Z</td>\n",
       "      <td>The AAPL earnings call for Q4 2024 has been sc...</td>\n",
       "      <td>None</td>\n",
       "      <td>9to5Mac</td>\n",
       "    </tr>\n",
       "    <tr>\n",
       "      <th>2</th>\n",
       "      <td>Britney Nguyen</td>\n",
       "      <td>A new Qualcomm chip could compete with Apple I...</td>\n",
       "      <td>Qualcomm’s (QCOM) new chip could help drive co...</td>\n",
       "      <td>https://qz.com/qualcomm-snapdragon-chip-ai-sma...</td>\n",
       "      <td>https://i.kinja-img.com/image/upload/c_fill,h_...</td>\n",
       "      <td>2024-10-21T22:00:00Z</td>\n",
       "      <td>In This Story\\r\\nQualcomms (QCOM-1.12%\\r\\n) ne...</td>\n",
       "      <td>None</td>\n",
       "      <td>Quartz India</td>\n",
       "    </tr>\n",
       "    <tr>\n",
       "      <th>3</th>\n",
       "      <td>Britney Nguyen</td>\n",
       "      <td>Apple is losing out to Huawei in China. Here's...</td>\n",
       "      <td>Since releasing its Mate 60 Pro series last Au...</td>\n",
       "      <td>https://qz.com/apple-losing-huawei-china-smart...</td>\n",
       "      <td>https://i.kinja-img.com/image/upload/c_fill,h_...</td>\n",
       "      <td>2024-10-16T09:00:00Z</td>\n",
       "      <td>In This Story\\r\\nSince releasing its Mate 60 P...</td>\n",
       "      <td>None</td>\n",
       "      <td>Quartz India</td>\n",
       "    </tr>\n",
       "    <tr>\n",
       "      <th>4</th>\n",
       "      <td>Rocio Fabbro</td>\n",
       "      <td>Amazon Prime Video will soon have Apple TV+ be...</td>\n",
       "      <td>Apple (AAPL) TV+ will soon be available on Ama...</td>\n",
       "      <td>https://qz.com/amazon-prime-video-apple-tv-str...</td>\n",
       "      <td>https://i.kinja-img.com/image/upload/c_fill,h_...</td>\n",
       "      <td>2024-10-10T12:20:00Z</td>\n",
       "      <td>In This Story\\r\\nApple (AAPL) TV+ will soon be...</td>\n",
       "      <td>None</td>\n",
       "      <td>Quartz India</td>\n",
       "    </tr>\n",
       "  </tbody>\n",
       "</table>\n",
       "</div>"
      ],
      "text/plain": [
       "           author                                              title  \\\n",
       "0     Ben Lovejoy  Tim Cook sells $50M worth of AAPL shares, but ...   \n",
       "1     Ben Lovejoy  AAPL earnings call on October 31 will include ...   \n",
       "2  Britney Nguyen  A new Qualcomm chip could compete with Apple I...   \n",
       "3  Britney Nguyen  Apple is losing out to Huawei in China. Here's...   \n",
       "4    Rocio Fabbro  Amazon Prime Video will soon have Apple TV+ be...   \n",
       "\n",
       "                                         description  \\\n",
       "0  Apple CEO Tim Cook has sold AAPL shares worth ...   \n",
       "1  The AAPL earnings call for Q4 2024 has been sc...   \n",
       "2  Qualcomm’s (QCOM) new chip could help drive co...   \n",
       "3  Since releasing its Mate 60 Pro series last Au...   \n",
       "4  Apple (AAPL) TV+ will soon be available on Ama...   \n",
       "\n",
       "                                                 url  \\\n",
       "0  https://9to5mac.com/2024/10/03/tim-cook-sells-...   \n",
       "1  https://9to5mac.com/2024/10/04/aapl-earnings-c...   \n",
       "2  https://qz.com/qualcomm-snapdragon-chip-ai-sma...   \n",
       "3  https://qz.com/apple-losing-huawei-china-smart...   \n",
       "4  https://qz.com/amazon-prime-video-apple-tv-str...   \n",
       "\n",
       "                                          urlToImage           publishedAt  \\\n",
       "0  https://i0.wp.com/9to5mac.com/wp-content/uploa...  2024-10-03T11:02:20Z   \n",
       "1  https://i0.wp.com/9to5mac.com/wp-content/uploa...  2024-10-04T11:09:43Z   \n",
       "2  https://i.kinja-img.com/image/upload/c_fill,h_...  2024-10-21T22:00:00Z   \n",
       "3  https://i.kinja-img.com/image/upload/c_fill,h_...  2024-10-16T09:00:00Z   \n",
       "4  https://i.kinja-img.com/image/upload/c_fill,h_...  2024-10-10T12:20:00Z   \n",
       "\n",
       "                                             content source.id   source.name  \n",
       "0  Apple CEO Tim Cook has sold AAPL shares worth ...      None       9to5Mac  \n",
       "1  The AAPL earnings call for Q4 2024 has been sc...      None       9to5Mac  \n",
       "2  In This Story\\r\\nQualcomms (QCOM-1.12%\\r\\n) ne...      None  Quartz India  \n",
       "3  In This Story\\r\\nSince releasing its Mate 60 P...      None  Quartz India  \n",
       "4  In This Story\\r\\nApple (AAPL) TV+ will soon be...      None  Quartz India  "
      ]
     },
     "execution_count": 12,
     "metadata": {},
     "output_type": "execute_result"
    }
   ],
   "source": [
    "df[:5]"
   ]
  },
  {
   "cell_type": "markdown",
   "id": "-RMXsqvFR968",
   "metadata": {
    "id": "-RMXsqvFR968"
   },
   "source": [
    "# Get Headline Labels from ChatGPT"
   ]
  },
  {
   "cell_type": "code",
   "execution_count": null,
   "id": "fddd360c-e1aa-4f38-ae21-f8b3f31c4014",
   "metadata": {
    "id": "fddd360c-e1aa-4f38-ae21-f8b3f31c4014"
   },
   "outputs": [],
   "source": [
    "# Function to interact with ChatGPT for financial analysis\n",
    "def assess_headline(headline, company_name='Apple'):\n",
    "    prompt = f\"\"\"Forget all your previous instructions. Pretend you are a financial expert. You are a\n",
    "    financial expert with stock recommendation experience. Answer “YES” if good news,\n",
    "    “NO” if bad news, or “UNKNOWN” if uncertain in the first line. Then elaborate with\n",
    "    one short and concise sentence on the next line. Is this headline good or bad for the stock\n",
    "    price of {company_name} in the short term?\n",
    "    Headline: {headline}\"\"\"\n",
    "\n",
    "    # Query OpenAI ChatGPT\n",
    "    response = client.chat.completions.create(\n",
    "        model=\"gpt-4o\",\n",
    "        messages=[\n",
    "            {\"role\": \"user\", \"content\": prompt}\n",
    "        ]\n",
    "    )\n",
    "\n",
    "    # Extract the first line (YES/NO/UNKNOWN) and the second line (explanation)\n",
    "    content = response.choices[0].message.content.split('\\n')\n",
    "    answer = content[0]  # First line (YES/NO/UNKNOWN)\n",
    "    explanation = content[1] if len(content) > 1 else \"\"  # Second line (explanation)\n",
    "\n",
    "    return answer, explanation\n",
    "\n"
   ]
  },
  {
   "cell_type": "code",
   "execution_count": null,
   "id": "201dc7a0-76de-482a-9511-f585f05aaa07",
   "metadata": {
    "id": "201dc7a0-76de-482a-9511-f585f05aaa07"
   },
   "outputs": [],
   "source": [
    "# Iterate over each headline in the DataFrame and call ChatGPT for assessment\n",
    "df[['sentiment', 'explanation']] = df['title'].apply(lambda headline: pd.Series(assess_headline(headline)))"
   ]
  },
  {
   "cell_type": "code",
   "execution_count": null,
   "id": "522e001a-82af-4fb0-b152-9c0feed52c10",
   "metadata": {
    "id": "522e001a-82af-4fb0-b152-9c0feed52c10"
   },
   "outputs": [],
   "source": [
    "# Export as CSV\n",
    "df.to_csv('articles_sentiment_reason_4o.csv', encoding=\"utf-8-sig\", index=False)"
   ]
  }
 ],
 "metadata": {
  "colab": {
   "provenance": [],
   "toc_visible": true
  },
  "kernelspec": {
   "display_name": "Python 3 (ipykernel)",
   "language": "python",
   "name": "python3"
  },
  "language_info": {
   "codemirror_mode": {
    "name": "ipython",
    "version": 3
   },
   "file_extension": ".py",
   "mimetype": "text/x-python",
   "name": "python",
   "nbconvert_exporter": "python",
   "pygments_lexer": "ipython3",
   "version": "3.12.3"
  }
 },
 "nbformat": 4,
 "nbformat_minor": 5
}
